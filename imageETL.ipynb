{
 "cells": [
  {
   "cell_type": "markdown",
   "metadata": {},
   "source": []
  },
  {
   "cell_type": "code",
   "execution_count": 20,
   "metadata": {},
   "outputs": [
    {
     "name": "stderr",
     "output_type": "stream",
     "text": [
      "/home/test/anaconda3/envs/HappyNewYear/lib/python3.5/site-packages/ipykernel_launcher.py:26: VisibleDeprecationWarning: using a non-integer number instead of an integer will result in an error in the future\n"
     ]
    },
    {
     "name": "stdout",
     "output_type": "stream",
     "text": [
      "完成\n"
     ]
    }
   ],
   "source": [
    "import os, cv2, numpy as np, copy, sys\n",
    "\n",
    "filePath=\"../Downloads\"\n",
    "destinationPath= \"./destination\"\n",
    "cascPath = \"haarcascade_frontalface_default.xml\" \n",
    "faceCascade = cv2.CascadeClassifier(cascPath)\n",
    "print(\"Start\") \n",
    "for root, dirs, files in os.walk(filePath, topdown=False): \n",
    "    i=10  \n",
    "    for name in files: \n",
    "        frame = cv2.imread(os.path.join(root, name)) \n",
    "        try:\n",
    "          gray = cv2.cvtColor(frame, cv2.COLOR_BGR2GRAY) \n",
    "          faces = faceCascade.detectMultiScale(gray,scaleFactor=1.1,minNeighbors=5,minSize=(30, 30),flags = cv2.CASCADE_SCALE_IMAGE  )\n",
    "        except cv2.error:\n",
    "          print(\"size=0 error:\", sys.exc_info()[0])\n",
    "        else:\n",
    "          i=i+1; j=0;\n",
    "          for(x, y, w, h) in faces:\n",
    "                 if name.split('.', 1 )[1]==\"jpeg\" :\n",
    "                     FilenameEX = \"jpg\"\n",
    "                 else :\n",
    "                     FilenameEX = name.split('.', 1 )[1]\n",
    "                 parameter = np.array([[0],[0.35],[0.7]]) * np.array([h,w])\n",
    "                 for k, e in enumerate(parameter):\n",
    "                     image = frame[y-e[0]: y +h, x-e[1]: x+w]\n",
    "                     fname = str(i) + str(j) +\".\"+ FilenameEX\n",
    "                     path=os.path.join(destinationPath,fname)\n",
    "                     try:\n",
    "                       cv2.imwrite(path, image)\n",
    "                     except:\n",
    "                       print(\"副檔名錯誤\") \n",
    "                     j=j+1\n",
    "              \n",
    "for root, dirs, files in os.walk(destinationPath, topdown=False): \n",
    "    for name in files: \n",
    "        size=os.path.getsize(os.path.join(root, name))\n",
    "        if size < 3*1024 :\n",
    "           os.remove(os.path.join(root, name)) \n",
    "\n",
    "print(\"Finish\") "
   ]
  },
  {
   "cell_type": "code",
   "execution_count": null,
   "metadata": {},
   "outputs": [],
   "source": []
  },
  {
   "cell_type": "code",
   "execution_count": 19,
   "metadata": {},
   "outputs": [
    {
     "name": "stdout",
     "output_type": "stream",
     "text": [
      "./destination\n",
      "['Untitled Document', 'Untitled Document 2']\n",
      "../Downloads\n",
      "['5ae99ce7c25dd.jpg', '34.jpg', 'tyy04090700.jpg', '5af3c42b7d06cd2ed3ce8c95_201805101201.jpg', '20180531004331.jpg', 'c3321526.jpg', '20180503001075.jpg', '4790791.jpg', '50335629.jpg', '104649959.jpg', '20180320-055325_U1252_M393475_a7f3.jpg', '06-large01.jpg', 'd3262461.jpg', '1527751256727.jpg', 'hqdefault.jpg', 'IMG_5296.jpg', '600_310.jpg', '1805020804441487.jpg', 'ee17e67e7ec40b770fa3ce9246ac1f6a_550_288.jpg', 'maxresdefault (2).jpg', '600_145.jpg', '640_9be3ddde84693c22eb606396f2424a49.jpg', '2018050315523916295.jpg', '4812314.jpg', '4701410.jpg', '2018503L02M1.jpg', 'maxresdefault (7).jpg', '20180502191936.jpg', '16635678.jpg', '4c174e413c208368928b317bd2786830.jpg', '433546256_m.jpg', 'hqdefault (2).jpg', '20180503004508.jpg', '22617697.jpg', '640_ee7ee2173df1f5d8658d50d1a60ed1d3.jpg', '15252642037654.jpg', '2018050269288457.jpg', '104615049.jpg', 'maxresdefault (1).jpg', 'onedaydonate.jpg', 'maxresdefault (6).jpg', '4703692.jpg', 'SMOKE.jpg', '8f8fb38a31b4b528f485d90d5a1a901b.JPG', '20180502003657.jpg', '1480646617_943.jpg', '20180411164331.jpg', '20180502004233.jpg', '600_2415001_1.jpg', '48.jpg', 'maxresdefault (11).jpg', '4585776.jpg', 'maxresdefault (4).jpg', 'd9bbc8894fb55ff9b760fda9eaabe74e.jpg', '1525408945297.png', '20180502184445285599.jpg', '20180531000136m.jpg', '2018050223510164388.jpg', '640_9c302902222115c25fb4ba1eda89e2f7.jpg', 'hqdefault (1).jpg', '640x_d05a7419aa1082def0e192ce58e93662.jpg', 'P180530-1a-780x405.jpg', '640_343208da3cddef0abae990c6bb044251.jpg', '640_274a93e5ff599bd1adb6e44ca1104f61.jpg', '640_6b4ce69e687ab54daa4e4bf0e05bfd25.jpg', '7da378a8-1d8c-4cbd-81f2-0fa8e0f0cebf.jpg', '1343754-XXL.jpg', 'lhb8o7b285yhuvy3h4aj8npctuwp9w.jpg', 'phpCXeVZu.jpg', '20180502003803.jpg', '20180502004076.jpg', '1527750958862.jpg', '603240939511539-600x400.jpg', '20180502184905349365.jpg', 'V9cQZhPyQ75I.jpg', '15254091732478YOePI2d91K.jpg', 'maxresdefault (10).jpg', '4701120.jpg', '39740633.jpg', '1527752573_100053_1.jpg', 'bbc100_p_01_02.jpg', '20180531000141m.jpg', 'maxresdefault (3).jpg', 'maxresdefault (5).jpg', 'maxresdefault (9).jpg', '1525618826-943802796.jpg', 'maxresdefault.jpg', '2018050219050534473.jpg', '433543857_m.jpg', '2018053123024547114.JPG', 'h5P0CW4Q813T.jpg', '20180531161021.jpg', '5ae9a17f7d06cd2ed3ce8011_201805021931.jpg', 'd3214428.jpg', '50682505.jpg', '5ae9adfe07480.jpg', 'article-5acc7bb15a28c.jpg', '4703556.jpg', '2018053123024478365.jpg', '42819616.jpg', '1289386-XXL.jpg', '152526585237670.jpg', '20180502003668.jpg', '20180502003666.jpg', '2018050269277609.jpg', '20180502004075.jpg', '20180502213013637903.png', '20180502004001.jpg', 'f6f3ef55-9ffb-45d4-ba63-15beb97a0e67.jpg', '4701165.jpg', '134741.jpg', '20180531000139m.jpg', '5b0f9871c790d7238ce9f9eb_201805311438.jpg', 'maxresdefault (8).jpg', '200821818231375A642X50.jpg', '45703e9e75e16599d94c7a98629882d9_w.jpg', '5aead768a402303d5b0453f1_201805031733.png', '27520450.jpg', '2018050269266801.jpg', '2018053123024537739.jpg', '15252742481249319009.jpg', 'hqdefault (3).jpg', 'Still0503_00003-1280x620.jpg', 's_186c25a8db9acf025f0e51f6e308fbdd.jpg']\n"
     ]
    }
   ],
   "source": [
    "\n",
    "destinationPath= \"./destination\"\n",
    "\n",
    "for root, dirs, files in os.walk(destinationPath, topdown=False): \n",
    "    print(root)\n",
    "    print(files)\n",
    "    \n",
    "\n",
    "destinationPath= \"../Downloads\"\n",
    "\n",
    "for root, dirs, files in os.walk(destinationPath, topdown=False): \n",
    "    print(root)\n",
    "    print(files)"
   ]
  },
  {
   "cell_type": "code",
   "execution_count": null,
   "metadata": {
    "collapsed": true
   },
   "outputs": [],
   "source": []
  }
 ],
 "metadata": {
  "kernelspec": {
   "display_name": "Python 3",
   "language": "python",
   "name": "python3"
  },
  "language_info": {
   "codemirror_mode": {
    "name": "ipython",
    "version": 3
   },
   "file_extension": ".py",
   "mimetype": "text/x-python",
   "name": "python",
   "nbconvert_exporter": "python",
   "pygments_lexer": "ipython3",
   "version": "3.5.5"
  }
 },
 "nbformat": 4,
 "nbformat_minor": 2
}
