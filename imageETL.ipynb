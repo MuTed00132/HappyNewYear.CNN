{
 "cells": [
  {
   "cell_type": "code",
   "execution_count": 20,
   "metadata": {},
   "outputs": [
    {
     "name": "stderr",
     "output_type": "stream",
     "text": [
      "/home/test/anaconda3/envs/HappyNewYear/lib/python3.5/site-packages/ipykernel_launcher.py:26: VisibleDeprecationWarning: using a non-integer number instead of an integer will result in an error in the future\n"
     ]
    },
    {
     "name": "stdout",
     "output_type": "stream",
     "text": [
      "完成\n"
     ]
    }
   ],
   "source": [
    "import os, cv2, numpy as np, copy, sys\n",
    "\n",
    "filePath=\"../Downloads\"\n",
    "destinationPath= \"./destination\"\n",
    "cascPath = \"haarcascade_frontalface_default.xml\" \n",
    "faceCascade = cv2.CascadeClassifier(cascPath)\n",
    "print(\"Start\") \n",
    "for root, dirs, files in os.walk(filePath, topdown=False): \n",
    "    i=10  \n",
    "    for name in files: \n",
    "        frame = cv2.imread(os.path.join(root, name)) \n",
    "        try:\n",
    "          gray = cv2.cvtColor(frame, cv2.COLOR_BGR2GRAY) \n",
    "          faces = faceCascade.detectMultiScale(gray,scaleFactor=1.1,minNeighbors=5,minSize=(30, 30),flags = cv2.CASCADE_SCALE_IMAGE  )\n",
    "        except cv2.error:\n",
    "          print(\"size=0 error:\", sys.exc_info()[0])\n",
    "        else:\n",
    "          i=i+1; j=0;\n",
    "          for(x, y, w, h) in faces:\n",
    "                 if name.split('.', 1 )[1]==\"jpeg\" :\n",
    "                     FilenameEX = \"jpg\"\n",
    "                 else :\n",
    "                     FilenameEX = name.split('.', 1 )[1]\n",
    "                 parameter = np.array([[0],[0.35],[0.7]]) * np.array([h,w])\n",
    "                 for k, e in enumerate(parameter):\n",
    "                     image = frame[y-e[0]: y +h+e[0], x-e[1]: x+w+e[1]]\n",
    "                     fname = str(i) + str(j) +\".\"+ FilenameEX\n",
    "                     path=os.path.join(destinationPath,fname)\n",
    "                     try:\n",
    "                       cv2.imwrite(path, image)\n",
    "                     except:\n",
    "                       print(\"副檔名錯誤\") \n",
    "                     j=j+1\n",
    "              \n",
    "for root, dirs, files in os.walk(destinationPath, topdown=False): \n",
    "    for name in files: \n",
    "        size=os.path.getsize(os.path.join(root, name))\n",
    "        if size < 3*1024 :\n",
    "           os.remove(os.path.join(root, name)) \n",
    "\n",
    "print(\"Finish\") "
   ]
  },
  {
   "cell_type": "code",
   "execution_count": null,
   "metadata": {},
   "outputs": [],
   "source": []
  }
 ],
 "metadata": {
  "kernelspec": {
   "display_name": "Python 3",
   "language": "python",
   "name": "python3"
  },
  "language_info": {
   "codemirror_mode": {
    "name": "ipython",
    "version": 3
   },
   "file_extension": ".py",
   "mimetype": "text/x-python",
   "name": "python",
   "nbconvert_exporter": "python",
   "pygments_lexer": "ipython3",
   "version": "3.5.5"
  }
 },
 "nbformat": 4,
 "nbformat_minor": 2
}
