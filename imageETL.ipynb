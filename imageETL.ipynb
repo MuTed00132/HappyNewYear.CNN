{
 "cells": [
  {
   "cell_type": "markdown",
   "metadata": {},
   "source": [
    "\n"
   ]
  },
  {
   "cell_type": "code",
   "execution_count": 6,
   "metadata": {
    "scrolled": true
   },
   "outputs": [
    {
     "name": "stderr",
     "output_type": "stream",
     "text": [
      "/home/test/anaconda3/envs/HappyNewYear/lib/python3.5/site-packages/ipykernel_launcher.py:29: VisibleDeprecationWarning: using a non-integer number instead of an integer will result in an error in the future\n"
     ]
    }
   ],
   "source": [
    "import os, cv2, numpy as np, copy\n",
    "\n",
    "cascPath = \"haarcascade_frontalface_default.xml\" \n",
    "faceCascade = cv2.CascadeClassifier(cascPath)\n",
    "\n",
    "for root, dirs, files in os.walk(\"/home/test/下載\", topdown=False): \n",
    "    i=10  \n",
    "    for name in files: \n",
    "        frame = cv2.imread(os.path.join(root, name)) \n",
    "        try:\n",
    "         frame = cv2.resize(frame,(300,300),interpolation=cv2.INTER_CUBIC) \n",
    "        except:\n",
    "         pass\n",
    "        else:\n",
    "         gray = cv2.cvtColor(frame, cv2.COLOR_BGR2GRAY) \n",
    "         try:\n",
    "          faces = faceCascade.detectMultiScale( gray, scaleFactor=1.1, minNeighbors=5, minSize=(30, 30), flags = cv2.CASCADE_SCALE_IMAGE) \n",
    "         except:\n",
    "          pass\n",
    "         else:\n",
    "          i=i+1; j=0;\n",
    "          for(x, y, w, h) in faces:\n",
    "                 if name.split('.', 1 )[1]==\"jpeg\" :\n",
    "                     FilenameEX = \"jpg\"\n",
    "                 else :\n",
    "                     FilenameEX = name.split('.', 1 )[1]\n",
    "                 parameter = np.array([[0],[0.2],[0.5]]) * np.array([h,w])\n",
    "                 for k, e in enumerate(parameter):\n",
    "                     image = frame[copy.copy(y-e[0]): copy.copy(y +h), copy.copy(x-e[1]): copy.copy(x+w)]\n",
    "                     fname = str(i) + str(j) +\".\"+ FilenameEX\n",
    "                     path=os.path.join(root,fname)\n",
    "                     cv2.imwrite(path, image)\n",
    "                     j=j+1\n",
    "                    \n",
    "print(\"完成\")                \n"
   ]
  },
  {
   "cell_type": "code",
   "execution_count": null,
   "metadata": {
    "collapsed": true
   },
   "outputs": [],
   "source": [
    "            print(type(x))\n",
    "            print(type(y))\n",
    "            print(type(0))\n",
    "            print(type(h))\n",
    "            print(type(hh))\n",
    "            print(type(np.asscalar(np.int16(int(y-e[0])))))\n",
    "            print(type(np.asscalar(np.int16(y-e[0]))"
   ]
  }
 ],
 "metadata": {
  "kernelspec": {
   "display_name": "Python 3",
   "language": "python",
   "name": "python3"
  },
  "language_info": {
   "codemirror_mode": {
    "name": "ipython",
    "version": 3
   },
   "file_extension": ".py",
   "mimetype": "text/x-python",
   "name": "python",
   "nbconvert_exporter": "python",
   "pygments_lexer": "ipython3",
   "version": "3.5.5"
  }
 },
 "nbformat": 4,
 "nbformat_minor": 2
}
