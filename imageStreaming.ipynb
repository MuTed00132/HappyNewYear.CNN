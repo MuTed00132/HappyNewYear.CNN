{
 "cells": [
  {
   "cell_type": "code",
   "execution_count": 1,
   "metadata": {
    "scrolled": true
   },
   "outputs": [
    {
     "name": "stderr",
     "output_type": "stream",
     "text": [
      "Using TensorFlow backend.\n"
     ]
    },
    {
     "name": "stdout",
     "output_type": "stream",
     "text": [
      "Model Loaded.\n"
     ]
    },
    {
     "name": "stderr",
     "output_type": "stream",
     "text": [
      "/home/test/anaconda3/envs/HappyNewYear/lib/python3.5/site-packages/keras/models.py:291: UserWarning: Error in loading the saved optimizer state. As a result, your model is starting with a freshly initialized optimizer.\n",
      "  warnings.warn('Error in loading the saved optimizer '\n"
     ]
    }
   ],
   "source": [
    "#匯入所需函數\n",
    "import cv2, sys, json, time, numpy as np, tensorflow as tf\n",
    "from pygame import mixer\n",
    "#cascPath = \"/home/test/anaconda3/pkgs/opencv3-3.2.0-np111py35_0/share/OpenCV/haarcascades/haarcascade_frontalface_default.xml\"\n",
    "cascPath = \"haarcascade_frontalface_default.xml\"\n",
    "faceCascade = cv2.CascadeClassifier(cascPath)\n",
    "from train import load_model, Model\n",
    "\n",
    "#result接收人臉辨識辨識結果並查詢audioList播放我們透過mensTalk函數錄好的恭喜發財錄音檔\n",
    "#t0;t1;waitTime是控制播放間隔參數\n",
    "t0=0;t1=0;waitTime=5;result = 0\n",
    "audioList = ['其他人','孫爺爺','發哥','志玲姊姊','范爺','阿妹','阿武','蔡姊']\n",
    "\n",
    "#初始化我們開發的人臉\"分類\"AI\n",
    "model = Model()\n",
    "model.load()\n",
    "#初始化音檔撥放功能\n",
    "mixer.init()\n"
   ]
  },
  {
   "cell_type": "code",
   "execution_count": 3,
   "metadata": {},
   "outputs": [
    {
     "name": "stderr",
     "output_type": "stream",
     "text": [
      "/home/test/anaconda3/envs/HappyNewYear/lib/python3.5/site-packages/ipykernel_launcher.py:50: VisibleDeprecationWarning: converting an array with ndim > 0 to an index will result in an error in the future\n",
      "/home/test/anaconda3/envs/HappyNewYear/lib/python3.5/site-packages/ipykernel_launcher.py:51: VisibleDeprecationWarning: converting an array with ndim > 0 to an index will result in an error in the future\n"
     ]
    },
    {
     "name": "stdout",
     "output_type": "stream",
     "text": [
      "阿武 Happy new year\n",
      "發哥 Happy new year\n",
      "阿妹 Happy new year\n"
     ]
    }
   ],
   "source": [
    "# 攝影機連線\n",
    "cap = cv2.VideoCapture(0)\n",
    "\n",
    "while(True):\n",
    "  # 如果攝影機是開啟，則讀取圖片並使用try catch包住避免跳出錯誤\n",
    "  cap.isOpened()\n",
    "  try :\n",
    "    # 參數ret的值為True或False，代表有沒有讀到圖片，參數frame，是當前截取一幀的圖片\n",
    "    ret, frame = cap.read()\n",
    "    # Opencv內建的人臉辨識函式使需要灰階圖片故用cvtColor將BGR轉GRAY\n",
    "    gray = cv2.cvtColor(frame, cv2.COLOR_BGR2GRAY)\n",
    "  except :\n",
    "    print(\"\")\n",
    "  #opencv3內建人臉識別功能函數\n",
    "  faces = faceCascade.detectMultiScale(\n",
    "    gray,\n",
    "    scaleFactor=1.1,\n",
    "    minNeighbors=5,\n",
    "    minSize=(30, 30),\n",
    "    #flags = cv2.cv.CV_HAAR_SCALE_IMAGE  #remove in opencv3\n",
    "    flags = cv2.CASCADE_SCALE_IMAGE\n",
    "  )\n",
    "  #將辨識出來的人臉透過for迴圈取出\n",
    "  for (x, y, w, h) in faces:\n",
    "    #標出人臉並畫線\n",
    "    cv2.rectangle(frame, (x, y), (x+w, y+h), (0, 255, 0), 2)  \n",
    "    image = frame[y - 70: y + h+70, x-20: x + w+20]\n",
    "    \n",
    "    #因為音檔有八秒鐘故使用t0、t1、waitTime三個參數控制分類頻率，\n",
    "    t0 = int(time.time())\n",
    "    if image is None :\n",
    "        print(\"\")\n",
    "    else :\n",
    "      try :\n",
    "           image = cv2.resize(image  ,(450,450),interpolation=cv2.INTER_CUBIC)\n",
    "           #顯示圖片，看看顏色大小人臉辨識功能是否正常\n",
    "           cv2.imshow('frame', image)   \n",
    "           #因Opencv預設格式是BGR必須轉成RGB\n",
    "           image = image[:,:,::-1]\n",
    "       \n",
    "      except :\n",
    "           print(\"\")\n",
    "      else :\n",
    "           #圖片傳入我們開發的人臉\"分類\"AI並得到結果  ;OpenCV faceCascade的是人臉\"辨識\"AI，我們開發的是人臉\"分類\"AI\n",
    "           result = model.predict(image)\n",
    "\n",
    "      #如果辨識結果不為0即其他人，且大於waitTime間隔\n",
    "      if result != 0 and t0-t1 > waitTime : \n",
    "           #撥放對應音檔\n",
    "           videoPath = \"./audio/\"+audioList[result]+\".mp3\"\n",
    "           print (audioList[result]+\" \"+\"Happy new year\")\n",
    "           mixer.music.load(videoPath)\n",
    "           mixer.music.play()\n",
    "           t1=int(time.time())\n",
    "\n",
    "  # 若按下 q 鍵則離開迴圈\n",
    "  if cv2.waitKey(1) & 0xFF == ord('q'):\n",
    "    break\n",
    "\n",
    "# 釋放攝影機\n",
    "cap.release()\n",
    "\n",
    "# 關閉所有 OpenCV 視窗\n",
    "cv2.destroyAllWindows()"
   ]
  },
  {
   "cell_type": "code",
   "execution_count": null,
   "metadata": {},
   "outputs": [],
   "source": []
  }
 ],
 "metadata": {
  "kernelspec": {
   "display_name": "Python 3",
   "language": "python",
   "name": "python3"
  },
  "language_info": {
   "codemirror_mode": {
    "name": "ipython",
    "version": 3
   },
   "file_extension": ".py",
   "mimetype": "text/x-python",
   "name": "python",
   "nbconvert_exporter": "python",
   "pygments_lexer": "ipython3",
   "version": "3.5.4"
  }
 },
 "nbformat": 4,
 "nbformat_minor": 2
}
