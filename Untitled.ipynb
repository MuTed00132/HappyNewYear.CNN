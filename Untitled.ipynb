{
 "cells": [
  {
   "cell_type": "code",
   "execution_count": null,
   "metadata": {},
   "outputs": [],
   "source": [
    "import time\n",
    "from gtts import gTTS\n",
    "from pygame import mixer\n",
    "import tempfile\n",
    "import os.path\n",
    "\n",
    "def mensTalk(sentence, lang, who = \"nobady\", loop=1):\n",
    "    mixer.init()"
   ]
  },
  {
   "cell_type": "code",
   "execution_count": 3,
   "metadata": {},
   "outputs": [
    {
     "name": "stdout",
     "output_type": "stream",
     "text": [
      "[[[16 30 48]\n",
      "  [10 23 39]\n",
      "  [10 21 35]\n",
      "  ..., \n",
      "  [18 30 72]\n",
      "  [23 34 72]\n",
      "  [23 32 66]]\n",
      "\n",
      " [[15 28 44]\n",
      "  [10 23 39]\n",
      "  [10 21 35]\n",
      "  ..., \n",
      "  [11 26 65]\n",
      "  [19 31 67]\n",
      "  [21 31 65]]\n",
      "\n",
      " [[12 25 39]\n",
      "  [14 27 41]\n",
      "  [20 31 45]\n",
      "  ..., \n",
      "  [ 6 22 59]\n",
      "  [12 27 60]\n",
      "  [17 30 62]]\n",
      "\n",
      " ..., \n",
      " [[28 35 62]\n",
      "  [32 39 64]\n",
      "  [26 36 60]\n",
      "  ..., \n",
      "  [32 43 73]\n",
      "  [32 43 73]\n",
      "  [29 40 70]]\n",
      "\n",
      " [[29 36 61]\n",
      "  [34 41 66]\n",
      "  [30 37 62]\n",
      "  ..., \n",
      "  [34 44 74]\n",
      "  [34 45 75]\n",
      "  [31 42 74]]\n",
      "\n",
      " [[30 37 62]\n",
      "  [37 44 69]\n",
      "  [30 37 62]\n",
      "  ..., \n",
      "  [35 45 75]\n",
      "  [37 48 78]\n",
      "  [34 45 77]]]\n"
     ]
    }
   ],
   "source": [
    "import cv2\n",
    "image = cv2.imread(\"data/train/3/1.jpg\")\n",
    "print(image)\n",
    "cv2.imshow('ks',image)"
   ]
  },
  {
   "cell_type": "code",
   "execution_count": null,
   "metadata": {},
   "outputs": [],
   "source": []
  }
 ],
 "metadata": {
  "kernelspec": {
   "display_name": "Python 3",
   "language": "python",
   "name": "python3"
  },
  "language_info": {
   "codemirror_mode": {
    "name": "ipython",
    "version": 3
   },
   "file_extension": ".py",
   "mimetype": "text/x-python",
   "name": "python",
   "nbconvert_exporter": "python",
   "pygments_lexer": "ipython3",
   "version": "3.5.5"
  }
 },
 "nbformat": 4,
 "nbformat_minor": 2
}
