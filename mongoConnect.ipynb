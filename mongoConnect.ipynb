{
 "cells": [
  {
   "cell_type": "code",
   "execution_count": 1,
   "metadata": {},
   "outputs": [
    {
     "ename": "SyntaxError",
     "evalue": "invalid syntax (<ipython-input-1-ff454966274d>, line 23)",
     "output_type": "error",
     "traceback": [
      "\u001b[0;36m  File \u001b[0;32m\"<ipython-input-1-ff454966274d>\"\u001b[0;36m, line \u001b[0;32m23\u001b[0m\n\u001b[0;31m    def image2Json2Mongo(fileName = temp, image)\u001b[0m\n\u001b[0m                                                ^\u001b[0m\n\u001b[0;31mSyntaxError\u001b[0m\u001b[0;31m:\u001b[0m invalid syntax\n"
     ]
    }
   ],
   "source": [
    "from pymongo import MongoClient\n",
    "import cv2\n",
    "import numpy as np\n",
    "from json import dumps\n",
    "\n",
    "\n",
    "def getMemberNameDict():\n",
    "    uri = \"mongodb://127.0.0.1:27017\" \n",
    "    client = MongoClient(uri)\n",
    "    db = client['member']\n",
    "    collect = db['name']\n",
    "    temp={}\n",
    "\n",
    "    for data in collect.find():\n",
    "        print(data)\n",
    "        print(type(data))\n",
    "        key = int(data['id'])\n",
    "        value = data['name']\n",
    "        temp[key]=value\n",
    "\n",
    "    return temp\n",
    "    \n",
    "\n",
    "def imageToMongo(collectName, fileName, image):\n",
    "    imagedict = {}\n",
    "    imageList = image.tolist()\n",
    "    #print(imageList)\n",
    "    imagedict['name'] = fileName\n",
    "    imagedict['content'] = imageList\n",
    "    \n",
    "    uri = \"mongodb://127.0.0.1:27017\" \n",
    "    client = MongoClient(uri)\n",
    "    db = client['image']\n",
    "    collect = db[collectName]\n",
    "    showObjectID = collect.insert_one(imagedict).inserted_id\n",
    "    print(showObjectID)\n",
    "    \n",
    "def imageFromMongo(collectName, All = True):    \n",
    "    uri = \"mongodb://127.0.0.1:27017\" \n",
    "    client = MongoClient(uri)\n",
    "    db = client['image']\n",
    "    collect = db['LinChiLing']\n",
    "    temp={}\n",
    "\n",
    "    for data in collect.find():\n",
    "        temp = data['content']\n",
    "        temp = array(temp)\n",
    "    return temp\n",
    "    \n",
    "\n",
    "import cv2\n",
    "image = cv2.imread(\"data/train/3/1.jpg\")\n",
    "cv2.imshow('ks',image)\n",
    "\n",
    "'''\n",
    "image = cv2.imread(\"data/train/3/1.jpg\")\n",
    "fileName=\"1.jpg\"\n",
    "imageToMongo(\"LinChiLing\",fileName, image)\n",
    "'''\n",
    "\n",
    "'''\n",
    "# 要编码的图片文件  \n",
    "IMAGE_NAME = '1.png'\n",
    "# 保存为的json文件\n",
    "JSON_NAME = 'opencv_temp.json'\n",
    "\n",
    "# 通过opencv读取图片\n",
    "img = cv2.imread(IMAGE_NAME)\n",
    "# numpy中ndarray文件转为list\n",
    "img_list = img.tolist()\n",
    "\n",
    "# 字典形式保存数组\n",
    "img_dict = {}\n",
    "img_dict['name'] = IMAGE_NAME\n",
    "img_dict['content'] = img_list\n",
    "\n",
    "# 保存为json格式\n",
    "json_data = dumps(img_dict, indent=2)\n",
    "# 将数据保存到文件\n",
    "with open(JSON_NAME, 'w') as json_file:\n",
    "    json_file.write(json_data)\n",
    "'''"
   ]
  },
  {
   "cell_type": "code",
   "execution_count": 18,
   "metadata": {},
   "outputs": [
    {
     "name": "stdout",
     "output_type": "stream",
     "text": [
      "{'name': '其他人', 'id': 0.0, '_id': ObjectId('5aae42dbc046cfa472b6cace')}\n",
      "<class 'dict'>\n",
      "{'name': '孫爺爺', 'id': 1.0, '_id': ObjectId('5aae42e2c046cfa472b6cacf')}\n",
      "<class 'dict'>\n",
      "{'name': '發哥', 'id': 2.0, '_id': ObjectId('5aae42e8c046cfa472b6cad0')}\n",
      "<class 'dict'>\n",
      "{'name': '志玲姊姊', 'id': 3.0, '_id': ObjectId('5aae42eec046cfa472b6cad1')}\n",
      "<class 'dict'>\n",
      "{'name': '范爺', 'id': 4.0, '_id': ObjectId('5aae42f4c046cfa472b6cad2')}\n",
      "<class 'dict'>\n",
      "{'name': '阿妹', 'id': 5.0, '_id': ObjectId('5aae42f9c046cfa472b6cad3')}\n",
      "<class 'dict'>\n",
      "{'name': '阿武', 'id': 6.0, '_id': ObjectId('5aae42fec046cfa472b6cad4')}\n",
      "<class 'dict'>\n",
      "{'name': '蔡姊', 'id': 7.0, '_id': ObjectId('5aae4304c046cfa472b6cad5')}\n",
      "<class 'dict'>\n",
      "{0: '其他人', 1: '孫爺爺', 2: '發哥', 3: '志玲姊姊', 4: '范爺', 5: '阿妹', 6: '阿武', 7: '蔡姊'}\n"
     ]
    }
   ],
   "source": [
    "from pymongo import MongoClient\n",
    "\n",
    "uri = \"mongodb://127.0.0.1:27017\" \n",
    "client = MongoClient(uri)\n",
    "db = client['member']\n",
    "collect = db['name']\n",
    "temp={}\n",
    "\n",
    "for data in collect.find():\n",
    "    print(data)\n",
    "    print(type(data))\n",
    "    key = int(data['id'])\n",
    "    value = data['name']\n",
    "    temp[key]=value\n",
    "\n",
    "return temp\n",
    "    \n"
   ]
  },
  {
   "cell_type": "code",
   "execution_count": 2,
   "metadata": {},
   "outputs": [
    {
     "ename": "NameError",
     "evalue": "name 'db' is not defined",
     "output_type": "error",
     "traceback": [
      "\u001b[0;31m---------------------------------------------------------------------------\u001b[0m",
      "\u001b[0;31mNameError\u001b[0m                                 Traceback (most recent call last)",
      "\u001b[0;32m<ipython-input-2-58a6155f840c>\u001b[0m in \u001b[0;36m<module>\u001b[0;34m()\u001b[0m\n\u001b[1;32m      1\u001b[0m \u001b[0maudioList\u001b[0m \u001b[0;34m=\u001b[0m \u001b[0;34m[\u001b[0m\u001b[0;34m'其他人'\u001b[0m\u001b[0;34m,\u001b[0m\u001b[0;34m'孫爺爺'\u001b[0m\u001b[0;34m,\u001b[0m\u001b[0;34m'發哥'\u001b[0m\u001b[0;34m,\u001b[0m\u001b[0;34m'志玲姊姊'\u001b[0m\u001b[0;34m,\u001b[0m\u001b[0;34m'范爺'\u001b[0m\u001b[0;34m,\u001b[0m\u001b[0;34m'阿妹'\u001b[0m\u001b[0;34m,\u001b[0m\u001b[0;34m'阿武'\u001b[0m\u001b[0;34m,\u001b[0m\u001b[0;34m'蔡姊'\u001b[0m\u001b[0;34m]\u001b[0m\u001b[0;34m\u001b[0m\u001b[0m\n\u001b[0;32m----> 2\u001b[0;31m \u001b[0mdb\u001b[0m\u001b[0;34m.\u001b[0m\u001b[0mname\u001b[0m\u001b[0;34m.\u001b[0m\u001b[0mremove\u001b[0m\u001b[0;34m(\u001b[0m\u001b[0;34m{\u001b[0m\u001b[0;34m}\u001b[0m\u001b[0;34m)\u001b[0m\u001b[0;34m\u001b[0m\u001b[0m\n\u001b[0m\u001b[1;32m      3\u001b[0m \u001b[0mdb\u001b[0m\u001b[0;34m.\u001b[0m\u001b[0mname\u001b[0m\u001b[0;34m.\u001b[0m\u001b[0minsert\u001b[0m\u001b[0;34m(\u001b[0m\u001b[0;34m{\u001b[0m\u001b[0mid\u001b[0m\u001b[0;34m:\u001b[0m\u001b[0;36m0\u001b[0m \u001b[0;34m,\u001b[0m\u001b[0mname\u001b[0m\u001b[0;34m:\u001b[0m\u001b[0;34m\"其他人\"\u001b[0m\u001b[0;34m}\u001b[0m\u001b[0;34m)\u001b[0m\u001b[0;34m\u001b[0m\u001b[0m\n\u001b[1;32m      4\u001b[0m \u001b[0mdb\u001b[0m\u001b[0;34m.\u001b[0m\u001b[0mname\u001b[0m\u001b[0;34m.\u001b[0m\u001b[0minsert\u001b[0m\u001b[0;34m(\u001b[0m\u001b[0;34m{\u001b[0m\u001b[0mid\u001b[0m\u001b[0;34m:\u001b[0m\u001b[0;36m1\u001b[0m \u001b[0;34m,\u001b[0m\u001b[0mname\u001b[0m\u001b[0;34m:\u001b[0m\u001b[0;34m\"孫爺爺\"\u001b[0m\u001b[0;34m}\u001b[0m\u001b[0;34m)\u001b[0m\u001b[0;34m\u001b[0m\u001b[0m\n\u001b[1;32m      5\u001b[0m \u001b[0mdb\u001b[0m\u001b[0;34m.\u001b[0m\u001b[0mname\u001b[0m\u001b[0;34m.\u001b[0m\u001b[0minsert\u001b[0m\u001b[0;34m(\u001b[0m\u001b[0;34m{\u001b[0m\u001b[0mid\u001b[0m\u001b[0;34m:\u001b[0m\u001b[0;36m2\u001b[0m \u001b[0;34m,\u001b[0m\u001b[0mname\u001b[0m\u001b[0;34m:\u001b[0m\u001b[0;34m\"發哥\"\u001b[0m\u001b[0;34m}\u001b[0m\u001b[0;34m)\u001b[0m\u001b[0;34m\u001b[0m\u001b[0m\n",
      "\u001b[0;31mNameError\u001b[0m: name 'db' is not defined"
     ]
    }
   ],
   "source": [
    "audioList = ['其他人','孫爺爺','發哥','志玲姊姊','范爺','阿妹','阿武','蔡姊']\n",
    "db.name.remove({})\n",
    "db.name.insert({id:0 ,name:\"其他人\"})\n",
    "db.name.insert({id:1 ,name:\"孫爺爺\"})\n",
    "db.name.insert({id:2 ,name:\"發哥\"})\n",
    "db.name.insert({id:3 ,name:\"志玲姊姊\"})\n",
    "db.name.insert({id:4 ,name:\"范爺\"})\n",
    "db.name.insert({id:5 ,name:\"阿妹\"})\n",
    "db.name.insert({id:6 ,name:\"阿武\"})\n",
    "db.name.insert({id:7 ,name:\"蔡姊\"})\n"
   ]
  },
  {
   "cell_type": "code",
   "execution_count": null,
   "metadata": {},
   "outputs": [],
   "source": []
  },
  {
   "cell_type": "code",
   "execution_count": null,
   "metadata": {},
   "outputs": [],
   "source": []
  },
  {
   "cell_type": "code",
   "execution_count": 1,
   "metadata": {},
   "outputs": [],
   "source": []
  },
  {
   "cell_type": "code",
   "execution_count": null,
   "metadata": {},
   "outputs": [],
   "source": []
  }
 ],
 "metadata": {
  "kernelspec": {
   "display_name": "Python 3",
   "language": "python",
   "name": "python3"
  },
  "language_info": {
   "codemirror_mode": {
    "name": "ipython",
    "version": 3
   },
   "file_extension": ".py",
   "mimetype": "text/x-python",
   "name": "python",
   "nbconvert_exporter": "python",
   "pygments_lexer": "ipython3",
   "version": "3.5.5"
  }
 },
 "nbformat": 4,
 "nbformat_minor": 2
}
